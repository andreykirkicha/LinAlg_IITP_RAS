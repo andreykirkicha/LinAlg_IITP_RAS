{
 "cells": [
  {
   "cell_type": "markdown",
   "metadata": {},
   "source": [
    "### Реализовать $ LDM^\\text{T} -$разложение матрицы A, использовать его для проверки положительной определённости матрицы."
   ]
  },
  {
   "cell_type": "code",
   "execution_count": null,
   "metadata": {},
   "outputs": [],
   "source": [
    "import numpy as np\n",
    "\n",
    "def LDMT_decomposition(A):\n",
    "    \"\"\"\n",
    "    LDM^T-разложение матрицы А.\n",
    "    \n",
    "    Parameters:\n",
    "        A: Квадратная симметричная положительно определённая матрица.\n",
    "        \n",
    "    Returns:\n",
    "        L, D, M: Матрицы разложения.\n",
    "    \"\"\"\n",
    "    \n",
    "    n = A.shape[0]\n",
    "\n",
    "    L = np.eye(n) \n",
    "    D = np.zeros((n, n))  \n",
    "    M = np.eye(n)  \n",
    "    \n",
    "    for j in range(n):\n",
    "        sum_d = 0.0\n",
    "        for k in range(j):\n",
    "            sum_d += L[j,k] * D[k,k] * M[j,k]\n",
    "        D[j,j] = A[j,j] - sum_d\n",
    "        \n",
    "        for i in range(j + 1, n):\n",
    "            sum_l = 0.0\n",
    "            for k in range(j):\n",
    "                sum_l += L[i,k] * D[k,k] * M[j,k]\n",
    "            L[i,j] = (A[i,j] - sum_l) / D[j,j]\n",
    "            \n",
    "            sum_m = 0.0\n",
    "            for k in range(j):\n",
    "                sum_m += L[j,k] * D[k,k] * M[i,k]\n",
    "            M[i,j] = (A[j,i] - sum_m) / D[j,j]\n",
    "    \n",
    "    return L, D, M\n",
    "\n",
    "def is_positive_definite(A):\n",
    "    \"\"\"\n",
    "    Проверка положительной определённости матрицы A.\n",
    "\n",
    "    Args:\n",
    "        A: Квадратная матрица.\n",
    "\n",
    "    Returns:\n",
    "        True, если матрица положительно определена, False - иначе.\n",
    "    \"\"\"\n",
    "\n",
    "    L, D, M = LDMT_decomposition(A)\n",
    "    return np.all(np.diag(D) > 0)"
   ]
  },
  {
   "cell_type": "code",
   "execution_count": 3,
   "metadata": {},
   "outputs": [
    {
     "name": "stdout",
     "output_type": "stream",
     "text": [
      "A = \n",
      " [[2. 1. 1.]\n",
      " [4. 3. 3.]\n",
      " [8. 7. 9.]]\n",
      "B = \n",
      " [[-3.  1.  1.]\n",
      " [ 4. -2.  3.]\n",
      " [ 8.  7.  9.]]\n",
      "\n",
      "\n",
      "===CHECK===\n",
      "A > 0:  True\n",
      "B > 0:  False\n"
     ]
    }
   ],
   "source": [
    "A = np.array([[2, 1, 1],\n",
    "              [4, 3, 3],\n",
    "              [8, 7, 9]], dtype=float)\n",
    "\n",
    "print(\"A = \\n\", A)\n",
    "\n",
    "B = np.array([[-3, 1, 1],\n",
    "              [4, -2, 3],\n",
    "              [8, 7, 9]], dtype=float)\n",
    "\n",
    "print(\"B = \\n\", B)\n",
    "print(\"\\n\")\n",
    "\n",
    "print(\"===CHECK===\")\n",
    "\n",
    "print(\"A > 0: \", is_positive_definite(A))\n",
    "print(\"B > 0: \", is_positive_definite(B))"
   ]
  }
 ],
 "metadata": {
  "kernelspec": {
   "display_name": "Python 3",
   "language": "python",
   "name": "python3"
  },
  "language_info": {
   "codemirror_mode": {
    "name": "ipython",
    "version": 3
   },
   "file_extension": ".py",
   "mimetype": "text/x-python",
   "name": "python",
   "nbconvert_exporter": "python",
   "pygments_lexer": "ipython3",
   "version": "3.10.6"
  }
 },
 "nbformat": 4,
 "nbformat_minor": 2
}
